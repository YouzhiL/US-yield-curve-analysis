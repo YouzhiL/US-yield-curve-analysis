{
  "nbformat": 4,
  "nbformat_minor": 0,
  "metadata": {
    "colab": {
      "name": "Quant_proj.ipynb",
      "provenance": [],
      "collapsed_sections": [],
      "machine_shape": "hm"
    },
    "kernelspec": {
      "name": "python3",
      "display_name": "Python 3"
    },
    "language_info": {
      "name": "python"
    }
  },
  "cells": [
    {
      "cell_type": "markdown",
      "metadata": {
        "id": "GS7zhMJvW27y"
      },
      "source": [
        "## Retrieve data using FRED API"
      ]
    },
    {
      "cell_type": "code",
      "metadata": {
        "id": "YEkVutKDUQ4B"
      },
      "source": [
        "import pandas_datareader.data as dtr\n",
        "import datetime as dt\n",
        "import pandas as pd\n",
        "import numpy as np\n",
        "import matplotlib.pyplot as plt\n",
        "\n",
        "ticker = ['GS1','GS2','GS3','GS5','GS7','GS10']\n",
        "\n"
      ],
      "execution_count": 2,
      "outputs": []
    },
    {
      "cell_type": "code",
      "metadata": {
        "colab": {
          "base_uri": "https://localhost:8080/"
        },
        "id": "6PBcBkckH1yM",
        "outputId": "6ee0f182-af03-42ce-cb0b-724ebda2ae2d"
      },
      "source": [
        "## intall FRED API \n",
        "!pip install fredapi\n",
        "## Import modules and Packages\n",
        "import fredapi as fa\n",
        "import pandas as pd\n",
        "#from local_settings import fred as settings\n"
      ],
      "execution_count": 3,
      "outputs": [
        {
          "output_type": "stream",
          "name": "stdout",
          "text": [
            "Collecting fredapi\n",
            "  Downloading fredapi-0.4.3-py3-none-any.whl (11 kB)\n",
            "Requirement already satisfied: pandas in /usr/local/lib/python3.7/dist-packages (from fredapi) (1.1.5)\n",
            "Requirement already satisfied: python-dateutil>=2.7.3 in /usr/local/lib/python3.7/dist-packages (from pandas->fredapi) (2.8.2)\n",
            "Requirement already satisfied: numpy>=1.15.4 in /usr/local/lib/python3.7/dist-packages (from pandas->fredapi) (1.19.5)\n",
            "Requirement already satisfied: pytz>=2017.2 in /usr/local/lib/python3.7/dist-packages (from pandas->fredapi) (2018.9)\n",
            "Requirement already satisfied: six>=1.5 in /usr/local/lib/python3.7/dist-packages (from python-dateutil>=2.7.3->pandas->fredapi) (1.15.0)\n",
            "Installing collected packages: fredapi\n",
            "Successfully installed fredapi-0.4.3\n"
          ]
        }
      ]
    },
    {
      "cell_type": "code",
      "metadata": {
        "id": "k5XIYBc6IIRm"
      },
      "source": [
        "fred = fa.Fred('021f2202f7211697a094d293f015057e')"
      ],
      "execution_count": 4,
      "outputs": []
    },
    {
      "cell_type": "code",
      "metadata": {
        "id": "KjOI8_aRP2M_"
      },
      "source": [
        "## get series\n",
        "treasury_list = []\n",
        "for idx in ticker:\n",
        "    treasury = fred.get_series(idx)\n",
        "    treasury.name = idx\n",
        "    treasury_list.append(treasury)\n"
      ],
      "execution_count": 5,
      "outputs": []
    },
    {
      "cell_type": "code",
      "metadata": {
        "id": "Ux0k3hLJQa6h"
      },
      "source": [
        "# merge time sereies to a dataframe\n",
        "yieldcurve = pd.concat(treasury_list, axis=1).dropna()\n",
        "yieldcurve.to_csv('yieldcurve.csv')\n",
        "headers = ['date', '1y', '2y', '3y', '5y', '7y', '10y'] \n",
        "yieldcurve = pd.read_csv('yieldcurve.csv', index_col=0, parse_dates=True, header=0, names=headers)"
      ],
      "execution_count": 6,
      "outputs": []
    },
    {
      "cell_type": "code",
      "metadata": {
        "colab": {
          "base_uri": "https://localhost:8080/",
          "height": 450
        },
        "id": "xxDJEAUPSE7L",
        "outputId": "8b99975a-cd12-4297-9bc7-5ab9225634a1"
      },
      "source": [
        "yieldcurve"
      ],
      "execution_count": 7,
      "outputs": [
        {
          "output_type": "execute_result",
          "data": {
            "text/html": [
              "<div>\n",
              "<style scoped>\n",
              "    .dataframe tbody tr th:only-of-type {\n",
              "        vertical-align: middle;\n",
              "    }\n",
              "\n",
              "    .dataframe tbody tr th {\n",
              "        vertical-align: top;\n",
              "    }\n",
              "\n",
              "    .dataframe thead th {\n",
              "        text-align: right;\n",
              "    }\n",
              "</style>\n",
              "<table border=\"1\" class=\"dataframe\">\n",
              "  <thead>\n",
              "    <tr style=\"text-align: right;\">\n",
              "      <th></th>\n",
              "      <th>1y</th>\n",
              "      <th>2y</th>\n",
              "      <th>3y</th>\n",
              "      <th>5y</th>\n",
              "      <th>7y</th>\n",
              "      <th>10y</th>\n",
              "    </tr>\n",
              "    <tr>\n",
              "      <th>date</th>\n",
              "      <th></th>\n",
              "      <th></th>\n",
              "      <th></th>\n",
              "      <th></th>\n",
              "      <th></th>\n",
              "      <th></th>\n",
              "    </tr>\n",
              "  </thead>\n",
              "  <tbody>\n",
              "    <tr>\n",
              "      <th>1976-06-01</th>\n",
              "      <td>6.52</td>\n",
              "      <td>7.06</td>\n",
              "      <td>7.31</td>\n",
              "      <td>7.61</td>\n",
              "      <td>7.75</td>\n",
              "      <td>7.86</td>\n",
              "    </tr>\n",
              "    <tr>\n",
              "      <th>1976-07-01</th>\n",
              "      <td>6.20</td>\n",
              "      <td>6.85</td>\n",
              "      <td>7.12</td>\n",
              "      <td>7.49</td>\n",
              "      <td>7.70</td>\n",
              "      <td>7.83</td>\n",
              "    </tr>\n",
              "    <tr>\n",
              "      <th>1976-08-01</th>\n",
              "      <td>6.00</td>\n",
              "      <td>6.63</td>\n",
              "      <td>6.86</td>\n",
              "      <td>7.31</td>\n",
              "      <td>7.58</td>\n",
              "      <td>7.77</td>\n",
              "    </tr>\n",
              "    <tr>\n",
              "      <th>1976-09-01</th>\n",
              "      <td>5.84</td>\n",
              "      <td>6.42</td>\n",
              "      <td>6.66</td>\n",
              "      <td>7.13</td>\n",
              "      <td>7.41</td>\n",
              "      <td>7.59</td>\n",
              "    </tr>\n",
              "    <tr>\n",
              "      <th>1976-10-01</th>\n",
              "      <td>5.50</td>\n",
              "      <td>5.98</td>\n",
              "      <td>6.24</td>\n",
              "      <td>6.75</td>\n",
              "      <td>7.16</td>\n",
              "      <td>7.41</td>\n",
              "    </tr>\n",
              "    <tr>\n",
              "      <th>...</th>\n",
              "      <td>...</td>\n",
              "      <td>...</td>\n",
              "      <td>...</td>\n",
              "      <td>...</td>\n",
              "      <td>...</td>\n",
              "      <td>...</td>\n",
              "    </tr>\n",
              "    <tr>\n",
              "      <th>2021-06-01</th>\n",
              "      <td>0.07</td>\n",
              "      <td>0.20</td>\n",
              "      <td>0.39</td>\n",
              "      <td>0.84</td>\n",
              "      <td>1.23</td>\n",
              "      <td>1.52</td>\n",
              "    </tr>\n",
              "    <tr>\n",
              "      <th>2021-07-01</th>\n",
              "      <td>0.08</td>\n",
              "      <td>0.22</td>\n",
              "      <td>0.40</td>\n",
              "      <td>0.76</td>\n",
              "      <td>1.07</td>\n",
              "      <td>1.32</td>\n",
              "    </tr>\n",
              "    <tr>\n",
              "      <th>2021-08-01</th>\n",
              "      <td>0.07</td>\n",
              "      <td>0.22</td>\n",
              "      <td>0.42</td>\n",
              "      <td>0.77</td>\n",
              "      <td>1.06</td>\n",
              "      <td>1.28</td>\n",
              "    </tr>\n",
              "    <tr>\n",
              "      <th>2021-09-01</th>\n",
              "      <td>0.08</td>\n",
              "      <td>0.24</td>\n",
              "      <td>0.47</td>\n",
              "      <td>0.86</td>\n",
              "      <td>1.16</td>\n",
              "      <td>1.37</td>\n",
              "    </tr>\n",
              "    <tr>\n",
              "      <th>2021-10-01</th>\n",
              "      <td>0.11</td>\n",
              "      <td>0.39</td>\n",
              "      <td>0.67</td>\n",
              "      <td>1.11</td>\n",
              "      <td>1.40</td>\n",
              "      <td>1.58</td>\n",
              "    </tr>\n",
              "  </tbody>\n",
              "</table>\n",
              "<p>545 rows × 6 columns</p>\n",
              "</div>"
            ],
            "text/plain": [
              "              1y    2y    3y    5y    7y   10y\n",
              "date                                          \n",
              "1976-06-01  6.52  7.06  7.31  7.61  7.75  7.86\n",
              "1976-07-01  6.20  6.85  7.12  7.49  7.70  7.83\n",
              "1976-08-01  6.00  6.63  6.86  7.31  7.58  7.77\n",
              "1976-09-01  5.84  6.42  6.66  7.13  7.41  7.59\n",
              "1976-10-01  5.50  5.98  6.24  6.75  7.16  7.41\n",
              "...          ...   ...   ...   ...   ...   ...\n",
              "2021-06-01  0.07  0.20  0.39  0.84  1.23  1.52\n",
              "2021-07-01  0.08  0.22  0.40  0.76  1.07  1.32\n",
              "2021-08-01  0.07  0.22  0.42  0.77  1.06  1.28\n",
              "2021-09-01  0.08  0.24  0.47  0.86  1.16  1.37\n",
              "2021-10-01  0.11  0.39  0.67  1.11  1.40  1.58\n",
              "\n",
              "[545 rows x 6 columns]"
            ]
          },
          "metadata": {},
          "execution_count": 7
        }
      ]
    },
    {
      "cell_type": "markdown",
      "metadata": {
        "id": "ToER9UxOW_cq"
      },
      "source": [
        "## Calculate Percentage Change"
      ]
    },
    {
      "cell_type": "code",
      "metadata": {
        "colab": {
          "base_uri": "https://localhost:8080/",
          "height": 450
        },
        "id": "blT0WuGxXSaw",
        "outputId": "b975ba5d-50ba-4dab-e53f-8b602e545d19"
      },
      "source": [
        "yield_pct=yieldcurve.pct_change().dropna()\n",
        "yield_pct"
      ],
      "execution_count": 8,
      "outputs": [
        {
          "output_type": "execute_result",
          "data": {
            "text/html": [
              "<div>\n",
              "<style scoped>\n",
              "    .dataframe tbody tr th:only-of-type {\n",
              "        vertical-align: middle;\n",
              "    }\n",
              "\n",
              "    .dataframe tbody tr th {\n",
              "        vertical-align: top;\n",
              "    }\n",
              "\n",
              "    .dataframe thead th {\n",
              "        text-align: right;\n",
              "    }\n",
              "</style>\n",
              "<table border=\"1\" class=\"dataframe\">\n",
              "  <thead>\n",
              "    <tr style=\"text-align: right;\">\n",
              "      <th></th>\n",
              "      <th>1y</th>\n",
              "      <th>2y</th>\n",
              "      <th>3y</th>\n",
              "      <th>5y</th>\n",
              "      <th>7y</th>\n",
              "      <th>10y</th>\n",
              "    </tr>\n",
              "    <tr>\n",
              "      <th>date</th>\n",
              "      <th></th>\n",
              "      <th></th>\n",
              "      <th></th>\n",
              "      <th></th>\n",
              "      <th></th>\n",
              "      <th></th>\n",
              "    </tr>\n",
              "  </thead>\n",
              "  <tbody>\n",
              "    <tr>\n",
              "      <th>1976-07-01</th>\n",
              "      <td>-0.049080</td>\n",
              "      <td>-0.029745</td>\n",
              "      <td>-0.025992</td>\n",
              "      <td>-0.015769</td>\n",
              "      <td>-0.006452</td>\n",
              "      <td>-0.003817</td>\n",
              "    </tr>\n",
              "    <tr>\n",
              "      <th>1976-08-01</th>\n",
              "      <td>-0.032258</td>\n",
              "      <td>-0.032117</td>\n",
              "      <td>-0.036517</td>\n",
              "      <td>-0.024032</td>\n",
              "      <td>-0.015584</td>\n",
              "      <td>-0.007663</td>\n",
              "    </tr>\n",
              "    <tr>\n",
              "      <th>1976-09-01</th>\n",
              "      <td>-0.026667</td>\n",
              "      <td>-0.031674</td>\n",
              "      <td>-0.029155</td>\n",
              "      <td>-0.024624</td>\n",
              "      <td>-0.022427</td>\n",
              "      <td>-0.023166</td>\n",
              "    </tr>\n",
              "    <tr>\n",
              "      <th>1976-10-01</th>\n",
              "      <td>-0.058219</td>\n",
              "      <td>-0.068536</td>\n",
              "      <td>-0.063063</td>\n",
              "      <td>-0.053296</td>\n",
              "      <td>-0.033738</td>\n",
              "      <td>-0.023715</td>\n",
              "    </tr>\n",
              "    <tr>\n",
              "      <th>1976-11-01</th>\n",
              "      <td>-0.038182</td>\n",
              "      <td>-0.028428</td>\n",
              "      <td>-0.024038</td>\n",
              "      <td>-0.034074</td>\n",
              "      <td>-0.041899</td>\n",
              "      <td>-0.016194</td>\n",
              "    </tr>\n",
              "    <tr>\n",
              "      <th>...</th>\n",
              "      <td>...</td>\n",
              "      <td>...</td>\n",
              "      <td>...</td>\n",
              "      <td>...</td>\n",
              "      <td>...</td>\n",
              "      <td>...</td>\n",
              "    </tr>\n",
              "    <tr>\n",
              "      <th>2021-06-01</th>\n",
              "      <td>0.400000</td>\n",
              "      <td>0.250000</td>\n",
              "      <td>0.218750</td>\n",
              "      <td>0.024390</td>\n",
              "      <td>-0.039062</td>\n",
              "      <td>-0.061728</td>\n",
              "    </tr>\n",
              "    <tr>\n",
              "      <th>2021-07-01</th>\n",
              "      <td>0.142857</td>\n",
              "      <td>0.100000</td>\n",
              "      <td>0.025641</td>\n",
              "      <td>-0.095238</td>\n",
              "      <td>-0.130081</td>\n",
              "      <td>-0.131579</td>\n",
              "    </tr>\n",
              "    <tr>\n",
              "      <th>2021-08-01</th>\n",
              "      <td>-0.125000</td>\n",
              "      <td>0.000000</td>\n",
              "      <td>0.050000</td>\n",
              "      <td>0.013158</td>\n",
              "      <td>-0.009346</td>\n",
              "      <td>-0.030303</td>\n",
              "    </tr>\n",
              "    <tr>\n",
              "      <th>2021-09-01</th>\n",
              "      <td>0.142857</td>\n",
              "      <td>0.090909</td>\n",
              "      <td>0.119048</td>\n",
              "      <td>0.116883</td>\n",
              "      <td>0.094340</td>\n",
              "      <td>0.070312</td>\n",
              "    </tr>\n",
              "    <tr>\n",
              "      <th>2021-10-01</th>\n",
              "      <td>0.375000</td>\n",
              "      <td>0.625000</td>\n",
              "      <td>0.425532</td>\n",
              "      <td>0.290698</td>\n",
              "      <td>0.206897</td>\n",
              "      <td>0.153285</td>\n",
              "    </tr>\n",
              "  </tbody>\n",
              "</table>\n",
              "<p>544 rows × 6 columns</p>\n",
              "</div>"
            ],
            "text/plain": [
              "                  1y        2y        3y        5y        7y       10y\n",
              "date                                                                  \n",
              "1976-07-01 -0.049080 -0.029745 -0.025992 -0.015769 -0.006452 -0.003817\n",
              "1976-08-01 -0.032258 -0.032117 -0.036517 -0.024032 -0.015584 -0.007663\n",
              "1976-09-01 -0.026667 -0.031674 -0.029155 -0.024624 -0.022427 -0.023166\n",
              "1976-10-01 -0.058219 -0.068536 -0.063063 -0.053296 -0.033738 -0.023715\n",
              "1976-11-01 -0.038182 -0.028428 -0.024038 -0.034074 -0.041899 -0.016194\n",
              "...              ...       ...       ...       ...       ...       ...\n",
              "2021-06-01  0.400000  0.250000  0.218750  0.024390 -0.039062 -0.061728\n",
              "2021-07-01  0.142857  0.100000  0.025641 -0.095238 -0.130081 -0.131579\n",
              "2021-08-01 -0.125000  0.000000  0.050000  0.013158 -0.009346 -0.030303\n",
              "2021-09-01  0.142857  0.090909  0.119048  0.116883  0.094340  0.070312\n",
              "2021-10-01  0.375000  0.625000  0.425532  0.290698  0.206897  0.153285\n",
              "\n",
              "[544 rows x 6 columns]"
            ]
          },
          "metadata": {},
          "execution_count": 8
        }
      ]
    },
    {
      "cell_type": "code",
      "metadata": {
        "colab": {
          "base_uri": "https://localhost:8080/",
          "height": 297
        },
        "id": "zKSipdsqXc06",
        "outputId": "d59c910e-d87f-438a-f123-e11863bad4c3"
      },
      "source": [
        "yield_pct.describe()"
      ],
      "execution_count": 9,
      "outputs": [
        {
          "output_type": "execute_result",
          "data": {
            "text/html": [
              "<div>\n",
              "<style scoped>\n",
              "    .dataframe tbody tr th:only-of-type {\n",
              "        vertical-align: middle;\n",
              "    }\n",
              "\n",
              "    .dataframe tbody tr th {\n",
              "        vertical-align: top;\n",
              "    }\n",
              "\n",
              "    .dataframe thead th {\n",
              "        text-align: right;\n",
              "    }\n",
              "</style>\n",
              "<table border=\"1\" class=\"dataframe\">\n",
              "  <thead>\n",
              "    <tr style=\"text-align: right;\">\n",
              "      <th></th>\n",
              "      <th>1y</th>\n",
              "      <th>2y</th>\n",
              "      <th>3y</th>\n",
              "      <th>5y</th>\n",
              "      <th>7y</th>\n",
              "      <th>10y</th>\n",
              "    </tr>\n",
              "  </thead>\n",
              "  <tbody>\n",
              "    <tr>\n",
              "      <th>count</th>\n",
              "      <td>544.000000</td>\n",
              "      <td>544.000000</td>\n",
              "      <td>544.000000</td>\n",
              "      <td>544.000000</td>\n",
              "      <td>544.000000</td>\n",
              "      <td>544.000000</td>\n",
              "    </tr>\n",
              "    <tr>\n",
              "      <th>mean</th>\n",
              "      <td>-0.000742</td>\n",
              "      <td>0.000454</td>\n",
              "      <td>0.000956</td>\n",
              "      <td>0.000271</td>\n",
              "      <td>-0.000446</td>\n",
              "      <td>-0.000974</td>\n",
              "    </tr>\n",
              "    <tr>\n",
              "      <th>std</th>\n",
              "      <td>0.110230</td>\n",
              "      <td>0.103354</td>\n",
              "      <td>0.101139</td>\n",
              "      <td>0.086223</td>\n",
              "      <td>0.072525</td>\n",
              "      <td>0.061456</td>\n",
              "    </tr>\n",
              "    <tr>\n",
              "      <th>min</th>\n",
              "      <td>-0.765957</td>\n",
              "      <td>-0.661654</td>\n",
              "      <td>-0.618321</td>\n",
              "      <td>-0.553030</td>\n",
              "      <td>-0.450704</td>\n",
              "      <td>-0.420000</td>\n",
              "    </tr>\n",
              "    <tr>\n",
              "      <th>25%</th>\n",
              "      <td>-0.043281</td>\n",
              "      <td>-0.043096</td>\n",
              "      <td>-0.042041</td>\n",
              "      <td>-0.039199</td>\n",
              "      <td>-0.034442</td>\n",
              "      <td>-0.032287</td>\n",
              "    </tr>\n",
              "    <tr>\n",
              "      <th>50%</th>\n",
              "      <td>0.000000</td>\n",
              "      <td>0.000000</td>\n",
              "      <td>-0.002960</td>\n",
              "      <td>-0.003198</td>\n",
              "      <td>-0.003815</td>\n",
              "      <td>-0.003580</td>\n",
              "    </tr>\n",
              "    <tr>\n",
              "      <th>75%</th>\n",
              "      <td>0.037175</td>\n",
              "      <td>0.043347</td>\n",
              "      <td>0.042876</td>\n",
              "      <td>0.035444</td>\n",
              "      <td>0.032508</td>\n",
              "      <td>0.030173</td>\n",
              "    </tr>\n",
              "    <tr>\n",
              "      <th>max</th>\n",
              "      <td>0.846154</td>\n",
              "      <td>0.625000</td>\n",
              "      <td>0.523810</td>\n",
              "      <td>0.518519</td>\n",
              "      <td>0.395604</td>\n",
              "      <td>0.277778</td>\n",
              "    </tr>\n",
              "  </tbody>\n",
              "</table>\n",
              "</div>"
            ],
            "text/plain": [
              "               1y          2y          3y          5y          7y         10y\n",
              "count  544.000000  544.000000  544.000000  544.000000  544.000000  544.000000\n",
              "mean    -0.000742    0.000454    0.000956    0.000271   -0.000446   -0.000974\n",
              "std      0.110230    0.103354    0.101139    0.086223    0.072525    0.061456\n",
              "min     -0.765957   -0.661654   -0.618321   -0.553030   -0.450704   -0.420000\n",
              "25%     -0.043281   -0.043096   -0.042041   -0.039199   -0.034442   -0.032287\n",
              "50%      0.000000    0.000000   -0.002960   -0.003198   -0.003815   -0.003580\n",
              "75%      0.037175    0.043347    0.042876    0.035444    0.032508    0.030173\n",
              "max      0.846154    0.625000    0.523810    0.518519    0.395604    0.277778"
            ]
          },
          "metadata": {},
          "execution_count": 9
        }
      ]
    },
    {
      "cell_type": "markdown",
      "metadata": {
        "id": "5pfb3EsMYPWZ"
      },
      "source": [
        "We can see that the standard deviation is decreasing in time to maturity."
      ]
    },
    {
      "cell_type": "markdown",
      "metadata": {
        "id": "GR6jH-7hZQV-"
      },
      "source": [
        "## Derive the Correlation Matrix"
      ]
    },
    {
      "cell_type": "code",
      "metadata": {
        "colab": {
          "base_uri": "https://localhost:8080/",
          "height": 235
        },
        "id": "OMLZXQbTZPdC",
        "outputId": "be128b60-9e71-480a-b136-bc9b05caafed"
      },
      "source": [
        "yield_pct_corr=yield_pct.corr()\n",
        "yield_pct_corr"
      ],
      "execution_count": 10,
      "outputs": [
        {
          "output_type": "execute_result",
          "data": {
            "text/html": [
              "<div>\n",
              "<style scoped>\n",
              "    .dataframe tbody tr th:only-of-type {\n",
              "        vertical-align: middle;\n",
              "    }\n",
              "\n",
              "    .dataframe tbody tr th {\n",
              "        vertical-align: top;\n",
              "    }\n",
              "\n",
              "    .dataframe thead th {\n",
              "        text-align: right;\n",
              "    }\n",
              "</style>\n",
              "<table border=\"1\" class=\"dataframe\">\n",
              "  <thead>\n",
              "    <tr style=\"text-align: right;\">\n",
              "      <th></th>\n",
              "      <th>1y</th>\n",
              "      <th>2y</th>\n",
              "      <th>3y</th>\n",
              "      <th>5y</th>\n",
              "      <th>7y</th>\n",
              "      <th>10y</th>\n",
              "    </tr>\n",
              "  </thead>\n",
              "  <tbody>\n",
              "    <tr>\n",
              "      <th>1y</th>\n",
              "      <td>1.000000</td>\n",
              "      <td>0.818125</td>\n",
              "      <td>0.733237</td>\n",
              "      <td>0.639476</td>\n",
              "      <td>0.603910</td>\n",
              "      <td>0.567477</td>\n",
              "    </tr>\n",
              "    <tr>\n",
              "      <th>2y</th>\n",
              "      <td>0.818125</td>\n",
              "      <td>1.000000</td>\n",
              "      <td>0.960821</td>\n",
              "      <td>0.879459</td>\n",
              "      <td>0.828389</td>\n",
              "      <td>0.769381</td>\n",
              "    </tr>\n",
              "    <tr>\n",
              "      <th>3y</th>\n",
              "      <td>0.733237</td>\n",
              "      <td>0.960821</td>\n",
              "      <td>1.000000</td>\n",
              "      <td>0.957641</td>\n",
              "      <td>0.910382</td>\n",
              "      <td>0.846371</td>\n",
              "    </tr>\n",
              "    <tr>\n",
              "      <th>5y</th>\n",
              "      <td>0.639476</td>\n",
              "      <td>0.879459</td>\n",
              "      <td>0.957641</td>\n",
              "      <td>1.000000</td>\n",
              "      <td>0.983190</td>\n",
              "      <td>0.941722</td>\n",
              "    </tr>\n",
              "    <tr>\n",
              "      <th>7y</th>\n",
              "      <td>0.603910</td>\n",
              "      <td>0.828389</td>\n",
              "      <td>0.910382</td>\n",
              "      <td>0.983190</td>\n",
              "      <td>1.000000</td>\n",
              "      <td>0.979112</td>\n",
              "    </tr>\n",
              "    <tr>\n",
              "      <th>10y</th>\n",
              "      <td>0.567477</td>\n",
              "      <td>0.769381</td>\n",
              "      <td>0.846371</td>\n",
              "      <td>0.941722</td>\n",
              "      <td>0.979112</td>\n",
              "      <td>1.000000</td>\n",
              "    </tr>\n",
              "  </tbody>\n",
              "</table>\n",
              "</div>"
            ],
            "text/plain": [
              "           1y        2y        3y        5y        7y       10y\n",
              "1y   1.000000  0.818125  0.733237  0.639476  0.603910  0.567477\n",
              "2y   0.818125  1.000000  0.960821  0.879459  0.828389  0.769381\n",
              "3y   0.733237  0.960821  1.000000  0.957641  0.910382  0.846371\n",
              "5y   0.639476  0.879459  0.957641  1.000000  0.983190  0.941722\n",
              "7y   0.603910  0.828389  0.910382  0.983190  1.000000  0.979112\n",
              "10y  0.567477  0.769381  0.846371  0.941722  0.979112  1.000000"
            ]
          },
          "metadata": {},
          "execution_count": 10
        }
      ]
    },
    {
      "cell_type": "markdown",
      "metadata": {
        "id": "Z1n5GO_udzpL"
      },
      "source": [
        "1y,2y,...,10y data is highly correlated, as can be seen in the correlation matrix. Therefore, we can perform PCA to reduce the dimension of these data."
      ]
    },
    {
      "cell_type": "markdown",
      "metadata": {
        "id": "-rKL6ETzZaPa"
      },
      "source": [
        "## Calculate the eigenvalues of the correlation matrix"
      ]
    },
    {
      "cell_type": "code",
      "metadata": {
        "colab": {
          "base_uri": "https://localhost:8080/"
        },
        "id": "RZOQcW6AZKb5",
        "outputId": "9de5c025-9f25-41df-e759-680fbae7ecb7"
      },
      "source": [
        "\n",
        "yield_eig_value, yield_eig_vector = np.linalg.eig(yield_pct_corr)\n",
        "yield_eig_value"
      ],
      "execution_count": 11,
      "outputs": [
        {
          "output_type": "execute_result",
          "data": {
            "text/plain": [
              "array([5.16736063e+00, 6.07957130e-01, 1.76190878e-01, 3.54479997e-02,\n",
              "       8.75412557e-03, 4.28924026e-03])"
            ]
          },
          "metadata": {},
          "execution_count": 11
        }
      ]
    },
    {
      "cell_type": "code",
      "metadata": {
        "colab": {
          "base_uri": "https://localhost:8080/"
        },
        "id": "zDWUOYcZgZBm",
        "outputId": "6915dc07-3905-4b4d-c8c1-e0cd220eecc5"
      },
      "source": [
        "print('Total variation of the data(sum of eigenvalues):',np.sum(yield_eig_value))\n",
        "print('The first one component explain {0} percent of variance;\\nThe first two components explain {1} percent of variance;\\nThe first three components explain {2} percent of variance'.format(yield_eig_value[0]/np.sum(yield_eig_value),np.sum(yield_eig_value[0:2])/np.sum(yield_eig_value),np.sum(yield_eig_value[0:3])/np.sum(yield_eig_value)))"
      ],
      "execution_count": 12,
      "outputs": [
        {
          "output_type": "stream",
          "name": "stdout",
          "text": [
            "Total variation of the data(sum of eigenvalues): 6.000000000000002\n",
            "The first one component explain 0.8612267710670434 percent of variance;\n",
            "The first two components explain 0.9625529594717078 percent of variance;\n",
            "The first three components explain 0.9919181057531493 percent of variance\n"
          ]
        }
      ]
    },
    {
      "cell_type": "markdown",
      "metadata": {
        "id": "SlCFN2vOZqq9"
      },
      "source": [
        "The correlation matrix is positive semi-definite because all the eigenvalue is positive."
      ]
    },
    {
      "cell_type": "markdown",
      "metadata": {
        "id": "Mka1hSWqaDHz"
      },
      "source": [
        "## Decide the reduced dimension"
      ]
    },
    {
      "cell_type": "code",
      "metadata": {
        "colab": {
          "base_uri": "https://localhost:8080/"
        },
        "id": "yhqWxR_ba2af",
        "outputId": "c638f45f-1628-4302-913f-ec8cb7d040f5"
      },
      "source": [
        "yield_eig_vector_df=pd.DataFrame(yield_eig_vector[:,0:3].T,columns=yield_pct.columns)\n",
        "print(\"Factor loading:\\n\",yield_eig_vector_df)"
      ],
      "execution_count": 13,
      "outputs": [
        {
          "output_type": "stream",
          "name": "stdout",
          "text": [
            "Factor loading:\n",
            "          1y        2y        3y        5y        7y       10y\n",
            "0  0.339500  0.415248  0.429034  0.429792  0.422343  0.406379\n",
            "1  0.765726  0.295314  0.047039 -0.232526 -0.333107 -0.399013\n",
            "2  0.515294 -0.481801 -0.477732 -0.102554  0.190352  0.476823\n"
          ]
        }
      ]
    },
    {
      "cell_type": "code",
      "metadata": {
        "colab": {
          "base_uri": "https://localhost:8080/",
          "height": 265
        },
        "id": "CxuXdzZRbx8t",
        "outputId": "57b37363-60e6-4378-b039-0bf71199f52d"
      },
      "source": [
        "yield_eig_vector_df.iloc[0].plot(label='PC1')\n",
        "yield_eig_vector_df.iloc[1].plot(label='PC2')\n",
        "yield_eig_vector_df.iloc[2].plot(label='PC3')\n",
        "plt.legend()\n",
        "plt.show()"
      ],
      "execution_count": 14,
      "outputs": [
        {
          "output_type": "display_data",
          "data": {
            "image/png": "[encoded data removed]",
            "text/plain": [
              "<Figure size 432x288 with 1 Axes>"
            ]
          },
          "metadata": {
            "needs_background": "light"
          }
        }
      ]
    },
    {
      "cell_type": "code",
      "metadata": {
        "colab": {
          "base_uri": "https://localhost:8080/"
        },
        "id": "w_xnPCVqb20d",
        "outputId": "b58048f7-62fe-4c67-9461-871b433f5b0b"
      },
      "source": [
        "np.cumsum(yield_eig_value)/np.sum(yield_eig_value)"
      ],
      "execution_count": 15,
      "outputs": [
        {
          "output_type": "execute_result",
          "data": {
            "text/plain": [
              "array([0.86122677, 0.96255296, 0.99191811, 0.99782611, 0.99928513,\n",
              "       1.        ])"
            ]
          },
          "metadata": {},
          "execution_count": 15
        }
      ]
    },
    {
      "cell_type": "code",
      "metadata": {
        "colab": {
          "base_uri": "https://localhost:8080/",
          "height": 317
        },
        "id": "reWp3zg74W-e",
        "outputId": "ba7200a9-ec66-44ef-de50-5a5779656300"
      },
      "source": [
        "perc_array = 100 * np.cumsum(yield_eig_value)/np.sum(yield_eig_value)\n",
        "print(perc_array)\n",
        "name = ['1','2','3','4','5','6']\n",
        "plt.axis([-0.5, 6, 70, 100])\n",
        "plt.ylabel('Cumulative Percentage')\n",
        "plt.xlabel('Number of Components')\n",
        "plt.bar(name,perc_array,width = 0.4)\n",
        "plt.show()"
      ],
      "execution_count": 55,
      "outputs": [
        {
          "output_type": "stream",
          "name": "stdout",
          "text": [
            "[ 86.12267711  96.25529595  99.19181058  99.78261057  99.92851266\n",
            " 100.        ]\n"
          ]
        },
        {
          "output_type": "display_data",
          "data": {
            "image/png": "[encoded data removed]",
            "text/plain": [
              "<Figure size 432x288 with 1 Axes>"
            ]
          },
          "metadata": {
            "needs_background": "light"
          }
        }
      ]
    },
    {
      "cell_type": "markdown",
      "metadata": {
        "id": "Qis9ciVfcCTW"
      },
      "source": [
        "We need two principal components to explain more than 95% of the total variation in the change of yield curve.\n",
        "The definition of the total variation is the sum of all the deviations from the mean. For the standardized data, it's easy to know that the sum of the variances would be 6."
      ]
    },
    {
      "cell_type": "markdown",
      "metadata": {
        "id": "jGQ2HaGD3QX5"
      },
      "source": [
        "##Standardize the initial data and Project it from 6D to 2D"
      ]
    },
    {
      "cell_type": "code",
      "metadata": {
        "id": "6zyGgWAJz6sN"
      },
      "source": [
        "from sklearn.preprocessing import StandardScaler\n",
        "features = yield_pct.columns\n",
        "# Separating out the features\n",
        "x = yield_pct.loc[:, features].values\n",
        "# Separating out the target\n",
        "#y = df.loc[:,['target']].values\n",
        "# Standardizing the features\n",
        "x = StandardScaler().fit_transform(x)\n",
        "stand_data = yield_pct.copy()\n",
        "stand_data[stand_data.columns] = x"
      ],
      "execution_count": 17,
      "outputs": []
    },
    {
      "cell_type": "code",
      "metadata": {
        "colab": {
          "base_uri": "https://localhost:8080/",
          "height": 235
        },
        "id": "ni1jUkkv1RhP",
        "outputId": "8f5be5ec-4ef5-4315-e3d9-b2528a9ca279"
      },
      "source": [
        "stand_corr = stand_data.corr()\n",
        "stand_corr "
      ],
      "execution_count": 18,
      "outputs": [
        {
          "output_type": "execute_result",
          "data": {
            "text/html": [
              "<div>\n",
              "<style scoped>\n",
              "    .dataframe tbody tr th:only-of-type {\n",
              "        vertical-align: middle;\n",
              "    }\n",
              "\n",
              "    .dataframe tbody tr th {\n",
              "        vertical-align: top;\n",
              "    }\n",
              "\n",
              "    .dataframe thead th {\n",
              "        text-align: right;\n",
              "    }\n",
              "</style>\n",
              "<table border=\"1\" class=\"dataframe\">\n",
              "  <thead>\n",
              "    <tr style=\"text-align: right;\">\n",
              "      <th></th>\n",
              "      <th>1y</th>\n",
              "      <th>2y</th>\n",
              "      <th>3y</th>\n",
              "      <th>5y</th>\n",
              "      <th>7y</th>\n",
              "      <th>10y</th>\n",
              "    </tr>\n",
              "  </thead>\n",
              "  <tbody>\n",
              "    <tr>\n",
              "      <th>1y</th>\n",
              "      <td>1.000000</td>\n",
              "      <td>0.818125</td>\n",
              "      <td>0.733237</td>\n",
              "      <td>0.639476</td>\n",
              "      <td>0.603910</td>\n",
              "      <td>0.567477</td>\n",
              "    </tr>\n",
              "    <tr>\n",
              "      <th>2y</th>\n",
              "      <td>0.818125</td>\n",
              "      <td>1.000000</td>\n",
              "      <td>0.960821</td>\n",
              "      <td>0.879459</td>\n",
              "      <td>0.828389</td>\n",
              "      <td>0.769381</td>\n",
              "    </tr>\n",
              "    <tr>\n",
              "      <th>3y</th>\n",
              "      <td>0.733237</td>\n",
              "      <td>0.960821</td>\n",
              "      <td>1.000000</td>\n",
              "      <td>0.957641</td>\n",
              "      <td>0.910382</td>\n",
              "      <td>0.846371</td>\n",
              "    </tr>\n",
              "    <tr>\n",
              "      <th>5y</th>\n",
              "      <td>0.639476</td>\n",
              "      <td>0.879459</td>\n",
              "      <td>0.957641</td>\n",
              "      <td>1.000000</td>\n",
              "      <td>0.983190</td>\n",
              "      <td>0.941722</td>\n",
              "    </tr>\n",
              "    <tr>\n",
              "      <th>7y</th>\n",
              "      <td>0.603910</td>\n",
              "      <td>0.828389</td>\n",
              "      <td>0.910382</td>\n",
              "      <td>0.983190</td>\n",
              "      <td>1.000000</td>\n",
              "      <td>0.979112</td>\n",
              "    </tr>\n",
              "    <tr>\n",
              "      <th>10y</th>\n",
              "      <td>0.567477</td>\n",
              "      <td>0.769381</td>\n",
              "      <td>0.846371</td>\n",
              "      <td>0.941722</td>\n",
              "      <td>0.979112</td>\n",
              "      <td>1.000000</td>\n",
              "    </tr>\n",
              "  </tbody>\n",
              "</table>\n",
              "</div>"
            ],
            "text/plain": [
              "           1y        2y        3y        5y        7y       10y\n",
              "1y   1.000000  0.818125  0.733237  0.639476  0.603910  0.567477\n",
              "2y   0.818125  1.000000  0.960821  0.879459  0.828389  0.769381\n",
              "3y   0.733237  0.960821  1.000000  0.957641  0.910382  0.846371\n",
              "5y   0.639476  0.879459  0.957641  1.000000  0.983190  0.941722\n",
              "7y   0.603910  0.828389  0.910382  0.983190  1.000000  0.979112\n",
              "10y  0.567477  0.769381  0.846371  0.941722  0.979112  1.000000"
            ]
          },
          "metadata": {},
          "execution_count": 18
        }
      ]
    },
    {
      "cell_type": "code",
      "metadata": {
        "colab": {
          "base_uri": "https://localhost:8080/"
        },
        "id": "LtMzx7zN1y24",
        "outputId": "5897dadb-d313-4ff4-c753-245276929e66"
      },
      "source": [
        "stand_eig_value, stand_eig_vector = np.linalg.eig(stand_corr)\n",
        "np.sum(stand_eig_value)"
      ],
      "execution_count": 19,
      "outputs": [
        {
          "output_type": "execute_result",
          "data": {
            "text/plain": [
              "5.999999999999999"
            ]
          },
          "metadata": {},
          "execution_count": 19
        }
      ]
    },
    {
      "cell_type": "code",
      "metadata": {
        "id": "ohY-lRSO2a14"
      },
      "source": [
        "from sklearn.decomposition import PCA\n",
        "pca = PCA(n_components=2)\n",
        "principalComponents_d = pca.fit_transform(x)\n",
        "proj_data = pd.DataFrame(data = principalComponents_d\n",
        "             , columns = ['principal component 1', 'principal component 2'])"
      ],
      "execution_count": 20,
      "outputs": []
    },
    {
      "cell_type": "code",
      "metadata": {
        "colab": {
          "base_uri": "https://localhost:8080/",
          "height": 450
        },
        "id": "XT-lNDIe2rxu",
        "outputId": "6b1c069c-4658-4b8f-929f-7130afcbc2f2"
      },
      "source": [
        "proj_data.index = yield_pct.index\n",
        "proj_data"
      ],
      "execution_count": 21,
      "outputs": [
        {
          "output_type": "execute_result",
          "data": {
            "text/html": [
              "<div>\n",
              "<style scoped>\n",
              "    .dataframe tbody tr th:only-of-type {\n",
              "        vertical-align: middle;\n",
              "    }\n",
              "\n",
              "    .dataframe tbody tr th {\n",
              "        vertical-align: top;\n",
              "    }\n",
              "\n",
              "    .dataframe thead th {\n",
              "        text-align: right;\n",
              "    }\n",
              "</style>\n",
              "<table border=\"1\" class=\"dataframe\">\n",
              "  <thead>\n",
              "    <tr style=\"text-align: right;\">\n",
              "      <th></th>\n",
              "      <th>principal component 1</th>\n",
              "      <th>principal component 2</th>\n",
              "    </tr>\n",
              "    <tr>\n",
              "      <th>date</th>\n",
              "      <th></th>\n",
              "      <th></th>\n",
              "    </tr>\n",
              "  </thead>\n",
              "  <tbody>\n",
              "    <tr>\n",
              "      <th>1976-07-01</th>\n",
              "      <td>0.518720</td>\n",
              "      <td>-0.345623</td>\n",
              "    </tr>\n",
              "    <tr>\n",
              "      <th>1976-08-01</th>\n",
              "      <td>0.641005</td>\n",
              "      <td>-0.151060</td>\n",
              "    </tr>\n",
              "    <tr>\n",
              "      <th>1976-09-01</th>\n",
              "      <td>0.736176</td>\n",
              "      <td>0.026316</td>\n",
              "    </tr>\n",
              "    <tr>\n",
              "      <th>1976-10-01</th>\n",
              "      <td>1.338270</td>\n",
              "      <td>-0.181314</td>\n",
              "    </tr>\n",
              "    <tr>\n",
              "      <th>1976-11-01</th>\n",
              "      <td>0.851404</td>\n",
              "      <td>0.027636</td>\n",
              "    </tr>\n",
              "    <tr>\n",
              "      <th>...</th>\n",
              "      <td>...</td>\n",
              "      <td>...</td>\n",
              "    </tr>\n",
              "    <tr>\n",
              "      <th>2021-06-01</th>\n",
              "      <td>-2.656800</td>\n",
              "      <td>4.108693</td>\n",
              "    </tr>\n",
              "    <tr>\n",
              "      <th>2021-07-01</th>\n",
              "      <td>1.148742</td>\n",
              "      <td>2.997158</td>\n",
              "    </tr>\n",
              "    <tr>\n",
              "      <th>2021-08-01</th>\n",
              "      <td>0.358341</td>\n",
              "      <td>-0.645708</td>\n",
              "    </tr>\n",
              "    <tr>\n",
              "      <th>2021-09-01</th>\n",
              "      <td>-2.913954</td>\n",
              "      <td>0.098341</td>\n",
              "    </tr>\n",
              "    <tr>\n",
              "      <th>2021-10-01</th>\n",
              "      <td>-9.151130</td>\n",
              "      <td>1.856749</td>\n",
              "    </tr>\n",
              "  </tbody>\n",
              "</table>\n",
              "<p>544 rows × 2 columns</p>\n",
              "</div>"
            ],
            "text/plain": [
              "            principal component 1  principal component 2\n",
              "date                                                    \n",
              "1976-07-01               0.518720              -0.345623\n",
              "1976-08-01               0.641005              -0.151060\n",
              "1976-09-01               0.736176               0.026316\n",
              "1976-10-01               1.338270              -0.181314\n",
              "1976-11-01               0.851404               0.027636\n",
              "...                           ...                    ...\n",
              "2021-06-01              -2.656800               4.108693\n",
              "2021-07-01               1.148742               2.997158\n",
              "2021-08-01               0.358341              -0.645708\n",
              "2021-09-01              -2.913954               0.098341\n",
              "2021-10-01              -9.151130               1.856749\n",
              "\n",
              "[544 rows x 2 columns]"
            ]
          },
          "metadata": {},
          "execution_count": 21
        }
      ]
    },
    {
      "cell_type": "code",
      "metadata": {
        "colab": {
          "base_uri": "https://localhost:8080/",
          "height": 265
        },
        "id": "6_gpLxZ8s8Mc",
        "outputId": "47f1ff49-a5d5-4fcc-f939-f0c3c8637da7"
      },
      "source": [
        "# the histogram of the data\n",
        "\n",
        "ax = proj_data.plot.hist(bins=12, alpha=0.5, label = 'treasury yield' )\n"
      ],
      "execution_count": 76,
      "outputs": [
        {
          "output_type": "display_data",
          "data": {
            "image/png": "[encoded data removed]",
            "text/plain": [
              "<Figure size 432x288 with 1 Axes>"
            ]
          },
          "metadata": {
            "needs_background": "light"
          }
        }
      ]
    },
    {
      "cell_type": "code",
      "metadata": {
        "colab": {
          "base_uri": "https://localhost:8080/",
          "height": 265
        },
        "id": "5IXWzyl0KhvC",
        "outputId": "24c66201-482d-4324-efa6-d8ff4a128655"
      },
      "source": [
        "ax = stand_data.plot.hist(bins=12, alpha=0.5)"
      ],
      "execution_count": 56,
      "outputs": [
        {
          "output_type": "display_data",
          "data": {
            "image/png": "[encoded data removed]",
            "text/plain": [
              "<Figure size 432x288 with 1 Axes>"
            ]
          },
          "metadata": {
            "needs_background": "light"
          }
        }
      ]
    },
    {
      "cell_type": "markdown",
      "metadata": {
        "id": "FBBbpwHulaiN"
      },
      "source": [
        "## Validate the stability"
      ]
    },
    {
      "cell_type": "code",
      "metadata": {
        "id": "Ur01Jlztlnf3"
      },
      "source": [
        "## adding perurbation to the original data\n",
        "original_data = yield_pct[yield_pct.columns].to_numpy()\n",
        "K = 0.1\n",
        "perturbation = np.zeros(original_data.shape)\n",
        "for j in range(original_data.shape[1]):\n",
        "    N = np.random.normal(0,np.std(original_data[:,j]),original_data.shape[0])\n",
        "    perturbation[:,j] = original_data[:,j] + K * N"
      ],
      "execution_count": 77,
      "outputs": []
    },
    {
      "cell_type": "code",
      "metadata": {
        "id": "B158jRsB7VjW"
      },
      "source": [
        "from sklearn.preprocessing import StandardScaler\n",
        "# features = perturbation.columns\n",
        "# # Separating out the features\n",
        "# x = perturbation.loc[:, features].values\n",
        "# # Separating out the target\n",
        "# #y = df.loc[:,['target']].values\n",
        "# # Standardizing the features\n",
        "x = StandardScaler().fit_transform(perturbation)\n",
        "stand_perturbation = yield_pct.copy()\n",
        "stand_perturbation[stand_perturbation.columns] = x"
      ],
      "execution_count": 78,
      "outputs": []
    },
    {
      "cell_type": "code",
      "metadata": {
        "id": "0Vobmjo37b1Z"
      },
      "source": [
        "from sklearn.decomposition import PCA\n",
        "pca = PCA(n_components=2)\n",
        "principalComponents_p = pca.fit_transform(x)\n",
        "proj_perturbation = pd.DataFrame(data = principalComponents_p\n",
        "             , columns = ['principal component 1', 'principal component 2'])"
      ],
      "execution_count": 79,
      "outputs": []
    },
    {
      "cell_type": "code",
      "metadata": {
        "colab": {
          "base_uri": "https://localhost:8080/",
          "height": 419
        },
        "id": "VzFhUGMO8snb",
        "outputId": "44c46eaf-c509-45f1-ff8e-4d539efcd7de"
      },
      "source": [
        "proj_perturbation"
      ],
      "execution_count": 80,
      "outputs": [
        {
          "output_type": "execute_result",
          "data": {
            "text/html": [
              "<div>\n",
              "<style scoped>\n",
              "    .dataframe tbody tr th:only-of-type {\n",
              "        vertical-align: middle;\n",
              "    }\n",
              "\n",
              "    .dataframe tbody tr th {\n",
              "        vertical-align: top;\n",
              "    }\n",
              "\n",
              "    .dataframe thead th {\n",
              "        text-align: right;\n",
              "    }\n",
              "</style>\n",
              "<table border=\"1\" class=\"dataframe\">\n",
              "  <thead>\n",
              "    <tr style=\"text-align: right;\">\n",
              "      <th></th>\n",
              "      <th>principal component 1</th>\n",
              "      <th>principal component 2</th>\n",
              "    </tr>\n",
              "  </thead>\n",
              "  <tbody>\n",
              "    <tr>\n",
              "      <th>0</th>\n",
              "      <td>0.512635</td>\n",
              "      <td>-0.296026</td>\n",
              "    </tr>\n",
              "    <tr>\n",
              "      <th>1</th>\n",
              "      <td>0.678828</td>\n",
              "      <td>-0.233770</td>\n",
              "    </tr>\n",
              "    <tr>\n",
              "      <th>2</th>\n",
              "      <td>0.820905</td>\n",
              "      <td>0.096977</td>\n",
              "    </tr>\n",
              "    <tr>\n",
              "      <th>3</th>\n",
              "      <td>1.263190</td>\n",
              "      <td>-0.244335</td>\n",
              "    </tr>\n",
              "    <tr>\n",
              "      <th>4</th>\n",
              "      <td>0.828539</td>\n",
              "      <td>0.045216</td>\n",
              "    </tr>\n",
              "    <tr>\n",
              "      <th>...</th>\n",
              "      <td>...</td>\n",
              "      <td>...</td>\n",
              "    </tr>\n",
              "    <tr>\n",
              "      <th>539</th>\n",
              "      <td>-2.763068</td>\n",
              "      <td>4.062181</td>\n",
              "    </tr>\n",
              "    <tr>\n",
              "      <th>540</th>\n",
              "      <td>1.184385</td>\n",
              "      <td>2.941107</td>\n",
              "    </tr>\n",
              "    <tr>\n",
              "      <th>541</th>\n",
              "      <td>0.374259</td>\n",
              "      <td>-0.484755</td>\n",
              "    </tr>\n",
              "    <tr>\n",
              "      <th>542</th>\n",
              "      <td>-2.699181</td>\n",
              "      <td>0.181466</td>\n",
              "    </tr>\n",
              "    <tr>\n",
              "      <th>543</th>\n",
              "      <td>-9.213911</td>\n",
              "      <td>1.979727</td>\n",
              "    </tr>\n",
              "  </tbody>\n",
              "</table>\n",
              "<p>544 rows × 2 columns</p>\n",
              "</div>"
            ],
            "text/plain": [
              "     principal component 1  principal component 2\n",
              "0                 0.512635              -0.296026\n",
              "1                 0.678828              -0.233770\n",
              "2                 0.820905               0.096977\n",
              "3                 1.263190              -0.244335\n",
              "4                 0.828539               0.045216\n",
              "..                     ...                    ...\n",
              "539              -2.763068               4.062181\n",
              "540               1.184385               2.941107\n",
              "541               0.374259              -0.484755\n",
              "542              -2.699181               0.181466\n",
              "543              -9.213911               1.979727\n",
              "\n",
              "[544 rows x 2 columns]"
            ]
          },
          "metadata": {},
          "execution_count": 80
        }
      ]
    },
    {
      "cell_type": "code",
      "metadata": {
        "id": "GaF1gTyU9CQU"
      },
      "source": [
        "import scipy.stats\n",
        "#correlat_matrix = np.corrcoef(proj_data, proj_perturbation)\n",
        "correlat_matrix = np.zeros((2,2))\n",
        "correlat_matrix[0,0] = scipy.stats.pearsonr(principalComponents_d[:,0], principalComponents_p[:,0])[0]\n",
        "correlat_matrix[0,1] = scipy.stats.pearsonr(principalComponents_d[:,0], principalComponents_p[:,1])[0]\n",
        "correlat_matrix[1,0] = scipy.stats.pearsonr(principalComponents_d[:,1], principalComponents_p[:,0])[0]\n",
        "correlat_matrix[1,1] = scipy.stats.pearsonr(principalComponents_d[:,1], principalComponents_p[:,1])[0]"
      ],
      "execution_count": 81,
      "outputs": []
    },
    {
      "cell_type": "code",
      "metadata": {
        "colab": {
          "base_uri": "https://localhost:8080/"
        },
        "id": "rlYWgy3SAhN-",
        "outputId": "662144f9-31bb-40ba-c4c6-c0c3114c8281"
      },
      "source": [
        "correlat_matrix"
      ],
      "execution_count": 29,
      "outputs": [
        {
          "output_type": "execute_result",
          "data": {
            "text/plain": [
              "array([[ 9.96070536e-01,  6.99116534e-04],\n",
              "       [-9.28166624e-04,  9.71701140e-01]])"
            ]
          },
          "metadata": {},
          "execution_count": 29
        }
      ]
    },
    {
      "cell_type": "code",
      "metadata": {
        "colab": {
          "base_uri": "https://localhost:8080/",
          "height": 111
        },
        "id": "2_IgOs9LQfce",
        "outputId": "c8d55935-bec8-4362-cd44-cce67a660e58"
      },
      "source": [
        "df = pd.DataFrame(correlat_matrix, columns = ['PC1(perturbated)','PC2(perturbated)'], index = ['PC1(original)', 'PC2(original)'])\n",
        "df"
      ],
      "execution_count": 82,
      "outputs": [
        {
          "output_type": "execute_result",
          "data": {
            "text/html": [
              "<div>\n",
              "<style scoped>\n",
              "    .dataframe tbody tr th:only-of-type {\n",
              "        vertical-align: middle;\n",
              "    }\n",
              "\n",
              "    .dataframe tbody tr th {\n",
              "        vertical-align: top;\n",
              "    }\n",
              "\n",
              "    .dataframe thead th {\n",
              "        text-align: right;\n",
              "    }\n",
              "</style>\n",
              "<table border=\"1\" class=\"dataframe\">\n",
              "  <thead>\n",
              "    <tr style=\"text-align: right;\">\n",
              "      <th></th>\n",
              "      <th>PC1(perturbated)</th>\n",
              "      <th>PC2(perturbated)</th>\n",
              "    </tr>\n",
              "  </thead>\n",
              "  <tbody>\n",
              "    <tr>\n",
              "      <th>PC1(original)</th>\n",
              "      <td>0.998980</td>\n",
              "      <td>0.000096</td>\n",
              "    </tr>\n",
              "    <tr>\n",
              "      <th>PC2(original)</th>\n",
              "      <td>-0.000004</td>\n",
              "      <td>0.991223</td>\n",
              "    </tr>\n",
              "  </tbody>\n",
              "</table>\n",
              "</div>"
            ],
            "text/plain": [
              "               PC1(perturbated)  PC2(perturbated)\n",
              "PC1(original)          0.998980          0.000096\n",
              "PC2(original)         -0.000004          0.991223"
            ]
          },
          "metadata": {},
          "execution_count": 82
        }
      ]
    },
    {
      "cell_type": "markdown",
      "metadata": {
        "id": "d-w7ysCD6Ju3"
      },
      "source": [
        "## Calculate MSE to find the most similar year"
      ]
    },
    {
      "cell_type": "code",
      "metadata": {
        "id": "1vbhdUQ0tfoH",
        "colab": {
          "base_uri": "https://localhost:8080/"
        },
        "outputId": "848daa8f-6a39-45c1-b090-8fc5a5f14de0"
      },
      "source": [
        "all_year = yield_pct.iloc[2:-2][yield_pct.columns[:]].to_numpy()\n",
        "target_year = all_year[-12:]\n",
        "history_year = all_year[:-12]\n",
        "sample = history_year.shape[0]/12\n",
        "sample"
      ],
      "execution_count": 83,
      "outputs": [
        {
          "output_type": "execute_result",
          "data": {
            "text/plain": [
              "44.0"
            ]
          },
          "metadata": {},
          "execution_count": 83
        }
      ]
    },
    {
      "cell_type": "code",
      "metadata": {
        "colab": {
          "base_uri": "https://localhost:8080/"
        },
        "id": "OyRJLgPG8fOQ",
        "outputId": "bbf59b88-a987-4ea4-9516-3d358b1a1173"
      },
      "source": [
        "print(target_year.shape)\n",
        "print(history_year.shape)"
      ],
      "execution_count": 84,
      "outputs": [
        {
          "output_type": "stream",
          "name": "stdout",
          "text": [
            "(12, 6)\n",
            "(528, 6)\n"
          ]
        }
      ]
    },
    {
      "cell_type": "code",
      "metadata": {
        "colab": {
          "base_uri": "https://localhost:8080/"
        },
        "id": "iBl9ESsS_k2g",
        "outputId": "a0d22b5b-e356-4fe2-b742-9b06c59170dd"
      },
      "source": [
        "from sklearn.metrics import mean_squared_error\n",
        "MSE_list = []\n",
        "for i in range(int(sample)):\n",
        "    MSE_list.append(mean_squared_error(target_year, history_year[12*i:12*(i+1)]))\n",
        "print(MSE_list)\n"
      ],
      "execution_count": 85,
      "outputs": [
        {
          "output_type": "stream",
          "name": "stdout",
          "text": [
            "[0.030233546315541763, 0.02642324808801219, 0.028568838265626895, 0.03053657706703256, 0.03327732534037727, 0.03580479219487148, 0.033398443404172785, 0.026384921402518333, 0.03021873636482901, 0.03749398811662923, 0.03180784067187309, 0.03159185315680251, 0.02955212657741744, 0.027900822243681317, 0.02662906595610885, 0.027405008096179476, 0.029919720785062217, 0.0250513662564209, 0.03303475976924882, 0.023242057127541838, 0.028219473386328086, 0.029213453403005848, 0.02819718604116299, 0.031279850002424066, 0.033710056361267476, 0.03202138920070625, 0.043522605162573454, 0.040029278444180486, 0.025110934412161143, 0.02440125135816108, 0.03078818237045035, 0.04820136346765746, 0.053211703102485124, 0.03891308503786415, 0.06943334252708673, 0.032401621099649176, 0.038053946729414784, 0.032051523086953096, 0.05173380688917739, 0.053665405843755114, 0.030817507636100767, 0.026504911518250084, 0.03892090415858561, 0.10860385636073361]\n"
          ]
        }
      ]
    },
    {
      "cell_type": "code",
      "metadata": {
        "colab": {
          "base_uri": "https://localhost:8080/"
        },
        "id": "geRNe3fvBRbw",
        "outputId": "03469f45-e1de-49b2-c197-b6f33ea7042f"
      },
      "source": [
        "min_value = min(MSE_list)\n",
        "print('The most similar year is: ', 1976 + MSE_list.index(min_value))"
      ],
      "execution_count": 86,
      "outputs": [
        {
          "output_type": "stream",
          "name": "stdout",
          "text": [
            "The most similar year is:  1995\n"
          ]
        }
      ]
    },
    {
      "cell_type": "code",
      "metadata": {
        "colab": {
          "base_uri": "https://localhost:8080/",
          "height": 279
        },
        "id": "_PhCE9YBBB7O",
        "outputId": "cfdc3a79-b1ad-407b-bba3-cd7d79aa7ec6"
      },
      "source": [
        "plt.plot(np.arange(1976,2020),[(float(i)-min(MSE_list))/(max(MSE_list)-min(MSE_list)) for i in MSE_list])\n",
        "#plt.xaxis([1976, 2019])\n",
        "plt.ylabel('Distance')\n",
        "plt.xlabel('year')\n",
        "\n",
        "plt.show()"
      ],
      "execution_count": 103,
      "outputs": [
        {
          "output_type": "display_data",
          "data": {
            "image/png": "[encoded data removed]",
            "text/plain": [
              "<Figure size 432x288 with 1 Axes>"
            ]
          },
          "metadata": {
            "needs_background": "light"
          }
        }
      ]
    },
    {
      "cell_type": "markdown",
      "metadata": {
        "id": "JYkyVvLkuHHq"
      },
      "source": [
        "## Dynamic Time Wrapping (DTW) method to find the most similar year"
      ]
    },
    {
      "cell_type": "code",
      "metadata": {
        "colab": {
          "base_uri": "https://localhost:8080/"
        },
        "id": "Zw5Rg2kAg1N3",
        "outputId": "082c3b18-3b19-4d23-ba7f-3abcd880c12a"
      },
      "source": [
        "!pip install dtw-python"
      ],
      "execution_count": 35,
      "outputs": [
        {
          "output_type": "stream",
          "name": "stdout",
          "text": [
            "Collecting dtw-python\n",
            "  Downloading dtw_python-1.1.10-cp37-cp37m-manylinux2010_x86_64.whl (580 kB)\n",
            "\u001b[?25l\r\u001b[K     |▋                               | 10 kB 23.7 MB/s eta 0:00:01\r\u001b[K     |█▏                              | 20 kB 32.7 MB/s eta 0:00:01\r\u001b[K     |█▊                              | 30 kB 31.4 MB/s eta 0:00:01\r\u001b[K     |██▎                             | 40 kB 21.8 MB/s eta 0:00:01\r\u001b[K     |██▉                             | 51 kB 16.4 MB/s eta 0:00:01\r\u001b[K     |███▍                            | 61 kB 12.0 MB/s eta 0:00:01\r\u001b[K     |████                            | 71 kB 13.3 MB/s eta 0:00:01\r\u001b[K     |████▌                           | 81 kB 14.9 MB/s eta 0:00:01\r\u001b[K     |█████                           | 92 kB 16.1 MB/s eta 0:00:01\r\u001b[K     |█████▋                          | 102 kB 11.4 MB/s eta 0:00:01\r\u001b[K     |██████▏                         | 112 kB 11.4 MB/s eta 0:00:01\r\u001b[K     |██████▉                         | 122 kB 11.4 MB/s eta 0:00:01\r\u001b[K     |███████▍                        | 133 kB 11.4 MB/s eta 0:00:01\r\u001b[K     |████████                        | 143 kB 11.4 MB/s eta 0:00:01\r\u001b[K     |████████▌                       | 153 kB 11.4 MB/s eta 0:00:01\r\u001b[K     |█████████                       | 163 kB 11.4 MB/s eta 0:00:01\r\u001b[K     |█████████▋                      | 174 kB 11.4 MB/s eta 0:00:01\r\u001b[K     |██████████▏                     | 184 kB 11.4 MB/s eta 0:00:01\r\u001b[K     |██████████▊                     | 194 kB 11.4 MB/s eta 0:00:01\r\u001b[K     |███████████▎                    | 204 kB 11.4 MB/s eta 0:00:01\r\u001b[K     |███████████▉                    | 215 kB 11.4 MB/s eta 0:00:01\r\u001b[K     |████████████▍                   | 225 kB 11.4 MB/s eta 0:00:01\r\u001b[K     |█████████████                   | 235 kB 11.4 MB/s eta 0:00:01\r\u001b[K     |█████████████▋                  | 245 kB 11.4 MB/s eta 0:00:01\r\u001b[K     |██████████████▏                 | 256 kB 11.4 MB/s eta 0:00:01\r\u001b[K     |██████████████▊                 | 266 kB 11.4 MB/s eta 0:00:01\r\u001b[K     |███████████████▎                | 276 kB 11.4 MB/s eta 0:00:01\r\u001b[K     |███████████████▉                | 286 kB 11.4 MB/s eta 0:00:01\r\u001b[K     |████████████████▍               | 296 kB 11.4 MB/s eta 0:00:01\r\u001b[K     |█████████████████               | 307 kB 11.4 MB/s eta 0:00:01\r\u001b[K     |█████████████████▌              | 317 kB 11.4 MB/s eta 0:00:01\r\u001b[K     |██████████████████              | 327 kB 11.4 MB/s eta 0:00:01\r\u001b[K     |██████████████████▋             | 337 kB 11.4 MB/s eta 0:00:01\r\u001b[K     |███████████████████▏            | 348 kB 11.4 MB/s eta 0:00:01\r\u001b[K     |███████████████████▊            | 358 kB 11.4 MB/s eta 0:00:01\r\u001b[K     |████████████████████▍           | 368 kB 11.4 MB/s eta 0:00:01\r\u001b[K     |█████████████████████           | 378 kB 11.4 MB/s eta 0:00:01\r\u001b[K     |█████████████████████▌          | 389 kB 11.4 MB/s eta 0:00:01\r\u001b[K     |██████████████████████          | 399 kB 11.4 MB/s eta 0:00:01\r\u001b[K     |██████████████████████▋         | 409 kB 11.4 MB/s eta 0:00:01\r\u001b[K     |███████████████████████▏        | 419 kB 11.4 MB/s eta 0:00:01\r\u001b[K     |███████████████████████▊        | 430 kB 11.4 MB/s eta 0:00:01\r\u001b[K     |████████████████████████▎       | 440 kB 11.4 MB/s eta 0:00:01\r\u001b[K     |████████████████████████▉       | 450 kB 11.4 MB/s eta 0:00:01\r\u001b[K     |█████████████████████████▍      | 460 kB 11.4 MB/s eta 0:00:01\r\u001b[K     |██████████████████████████      | 471 kB 11.4 MB/s eta 0:00:01\r\u001b[K     |██████████████████████████▌     | 481 kB 11.4 MB/s eta 0:00:01\r\u001b[K     |███████████████████████████▏    | 491 kB 11.4 MB/s eta 0:00:01\r\u001b[K     |███████████████████████████▊    | 501 kB 11.4 MB/s eta 0:00:01\r\u001b[K     |████████████████████████████▎   | 512 kB 11.4 MB/s eta 0:00:01\r\u001b[K     |████████████████████████████▉   | 522 kB 11.4 MB/s eta 0:00:01\r\u001b[K     |█████████████████████████████▍  | 532 kB 11.4 MB/s eta 0:00:01\r\u001b[K     |██████████████████████████████  | 542 kB 11.4 MB/s eta 0:00:01\r\u001b[K     |██████████████████████████████▌ | 552 kB 11.4 MB/s eta 0:00:01\r\u001b[K     |███████████████████████████████ | 563 kB 11.4 MB/s eta 0:00:01\r\u001b[K     |███████████████████████████████▋| 573 kB 11.4 MB/s eta 0:00:01\r\u001b[K     |████████████████████████████████| 580 kB 11.4 MB/s \n",
            "\u001b[?25hRequirement already satisfied: numpy>=1.19 in /usr/local/lib/python3.7/dist-packages (from dtw-python) (1.19.5)\n",
            "Requirement already satisfied: scipy>=1.1 in /usr/local/lib/python3.7/dist-packages (from dtw-python) (1.4.1)\n",
            "Installing collected packages: dtw-python\n",
            "Successfully installed dtw-python-1.1.10\n"
          ]
        }
      ]
    },
    {
      "cell_type": "code",
      "metadata": {
        "colab": {
          "base_uri": "https://localhost:8080/"
        },
        "id": "gqLSL444_feb",
        "outputId": "6b16ab71-4a13-46c9-eba1-1a82469e5bc6"
      },
      "source": [
        "history_year.shape"
      ],
      "execution_count": 110,
      "outputs": [
        {
          "output_type": "execute_result",
          "data": {
            "text/plain": [
              "(528, 6)"
            ]
          },
          "metadata": {},
          "execution_count": 110
        }
      ]
    },
    {
      "cell_type": "code",
      "metadata": {
        "colab": {
          "base_uri": "https://localhost:8080/"
        },
        "id": "vY7lx7S5_rit",
        "outputId": "83c72f49-e857-45e2-bd24-e6f259faaecf"
      },
      "source": [
        "target_year.shape"
      ],
      "execution_count": 112,
      "outputs": [
        {
          "output_type": "execute_result",
          "data": {
            "text/plain": [
              "(12, 6)"
            ]
          },
          "metadata": {},
          "execution_count": 112
        }
      ]
    },
    {
      "cell_type": "code",
      "metadata": {
        "id": "mt6UM0tXg-xE"
      },
      "source": [
        "from dtw import *\n",
        "distance_list = []\n",
        "for i in range(int(sample)):\n",
        "    alignment = dtw(target_year, history_year[12*i:12*(i+1)], keep_internals=True)\n",
        "    distance_list.append(alignment.distance)\n",
        "\n",
        "\n",
        "    ## Display the warping curve, i.e. the alignment curve\n",
        "    #alignment.plot(type=\"threeway\")\n",
        "    #print(alignment.distance)\n"
      ],
      "execution_count": 113,
      "outputs": []
    },
    {
      "cell_type": "code",
      "metadata": {
        "colab": {
          "base_uri": "https://localhost:8080/"
        },
        "id": "JzSOGanqjPz7",
        "outputId": "d28002c8-cfd4-49c0-9cb2-a6a5f6a2a0e4"
      },
      "source": [
        "min_value = min(distance_list)\n",
        "print('The most similar year is: ', 1976 + distance_list.index(min_value),distance_list.index(min_value))"
      ],
      "execution_count": 104,
      "outputs": [
        {
          "output_type": "stream",
          "name": "stdout",
          "text": [
            "The most similar year is:  2006 30\n"
          ]
        }
      ]
    },
    {
      "cell_type": "code",
      "metadata": {
        "colab": {
          "base_uri": "https://localhost:8080/",
          "height": 282
        },
        "id": "8mELxROLjTpd",
        "outputId": "28fe9294-9b6f-4404-a361-593464f10314"
      },
      "source": [
        "plt.plot(np.arange(1976,2020),distance_list)\n",
        "plt.ylabel('Distance')\n",
        "plt.xlabel('year')\n",
        "plt.show()"
      ],
      "execution_count": 102,
      "outputs": [
        {
          "output_type": "display_data",
          "data": {
            "image/png": "[encoded data removed]",
            "text/plain": [
              "<Figure size 432x288 with 1 Axes>"
            ]
          },
          "metadata": {
            "needs_background": "light"
          }
        }
      ]
    },
    {
      "cell_type": "code",
      "metadata": {
        "colab": {
          "base_uri": "https://localhost:8080/"
        },
        "id": "xRbi3aynjTii",
        "outputId": "4f2e880f-0d5d-4842-f725-6b9059ca5ce9"
      },
      "source": [
        "print(numpy.argsort(MSE_list)[:10])\n",
        "print(numpy.argsort(distance_list)[:10])"
      ],
      "execution_count": 40,
      "outputs": [
        {
          "output_type": "stream",
          "name": "stdout",
          "text": [
            "[41 23 29 13  1  4 10  7  0 17]\n",
            "[30 24 14 10 23 21  7 13  2 19]\n"
          ]
        }
      ]
    }
  ]
}